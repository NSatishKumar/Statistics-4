{
 "cells": [
  {
   "cell_type": "markdown",
   "metadata": {},
   "source": [
    "### Problem Statement 1:\n",
    "\n",
    "Let the continuous random variable D denote the diameter of the hole drilled in an aluminum sheet. The \n",
    "target diameter to be achieved is 12.5mm. Random disturbances in the process often result in inaccuracy. \n",
    "Historical data shows that the distribution of D can be modelled by the PDF, f(d) = 20e−20(d−12.5), d ≥  \n",
    "12.5. If a part with diameter > 12.6 mm needs to be scrapped, what is the proportion of those parts? What \n",
    "is the CDF when the diameter is of 11 mm? What is the conclusion of this experiment? "
   ]
  },
  {
   "cell_type": "markdown",
   "metadata": {},
   "source": [
    "<img src=\"stacs4/Stacs4_1.jpg\">"
   ]
  },
  {
   "cell_type": "code",
   "execution_count": null,
   "metadata": {},
   "outputs": [],
   "source": []
  },
  {
   "cell_type": "markdown",
   "metadata": {},
   "source": [
    "### Problem Statement 2:\n",
    "Please compute the following: \n",
    "\n",
    "         \n",
    "     a)  P(Z>1.26) ,  P (Z<−0.86) , P (Z>−1.37) , P (−1.25<Z<0.37) ,  P(Z≤−4.6) \n",
    "                                        \n",
    "     b)  Find the value 𝑧such that 𝑃 (𝑍 >𝑧 =0.05 )\n",
    "                                         \n",
    "     c)  Find the value of 𝑧such that 𝑃 (−𝑧 <𝑍 <𝑧 =0.99)\n"
   ]
  },
  {
   "cell_type": "markdown",
   "metadata": {},
   "source": [
    "<img src=\"stacs4/Stacs4_2_1.jpg\">"
   ]
  },
  {
   "cell_type": "markdown",
   "metadata": {},
   "source": [
    "<img src=\"stacs4/Stacs4_2_2.jpg\">"
   ]
  },
  {
   "cell_type": "markdown",
   "metadata": {},
   "source": [
    "<img src=\"stacs4/Stacs4_2_3.jpg\">"
   ]
  },
  {
   "cell_type": "code",
   "execution_count": null,
   "metadata": {},
   "outputs": [],
   "source": []
  },
  {
   "cell_type": "markdown",
   "metadata": {},
   "source": [
    "### Problem Statement 3:\n",
    "\n",
    "The current flow in a copper wire follow a normal distribution with a mean of 10 𝑚A and a variance of 4  \n",
    "(𝑚𝐴)2 . What is the probability that a current measurement will exceed 13 𝑚𝐴?What is the probability \n",
    "that   a   current  measurement   is between   9   and   11mA?   Determine the   current  measurement  which   has   a \n",
    "probability of 0.98. "
   ]
  },
  {
   "cell_type": "markdown",
   "metadata": {},
   "source": [
    "<img src=\"stacs4/Stacs4_3_1.jpg\">"
   ]
  },
  {
   "cell_type": "markdown",
   "metadata": {},
   "source": [
    "<img src=\"stacs4/Stacs4_3_2.jpg\">"
   ]
  },
  {
   "cell_type": "code",
   "execution_count": null,
   "metadata": {},
   "outputs": [],
   "source": []
  },
  {
   "cell_type": "markdown",
   "metadata": {},
   "source": [
    "### Problem Statement 4: \n",
    "\n",
    "The  shaft in a piston has its diameter  normally distributed with  a mean  of  0.2508 inch and  a  standard \n",
    "deviation of 0.0005 inch. The specifications of the shaft are  0.2500 ∓0.0015 inch. What proportion of \n",
    "shafts are in sync with the specifications? If the process is centered so that the mean is equal to the target \n",
    "value of 0.2500, what proportion of shafts conform to the new specifications? What is your conclusion \n",
    "from this experiment?"
   ]
  },
  {
   "cell_type": "markdown",
   "metadata": {},
   "source": [
    "<img src=\"stacs4/Stacs4_4_1.jpg\">"
   ]
  },
  {
   "cell_type": "markdown",
   "metadata": {},
   "source": [
    "<img src=\"stacs4/Stacs4_4_2.jpg\">"
   ]
  },
  {
   "cell_type": "code",
   "execution_count": null,
   "metadata": {},
   "outputs": [],
   "source": []
  }
 ],
 "metadata": {
  "kernelspec": {
   "display_name": "Python 3",
   "language": "python",
   "name": "python3"
  },
  "language_info": {
   "codemirror_mode": {
    "name": "ipython",
    "version": 3
   },
   "file_extension": ".py",
   "mimetype": "text/x-python",
   "name": "python",
   "nbconvert_exporter": "python",
   "pygments_lexer": "ipython3",
   "version": "3.7.0"
  }
 },
 "nbformat": 4,
 "nbformat_minor": 2
}
